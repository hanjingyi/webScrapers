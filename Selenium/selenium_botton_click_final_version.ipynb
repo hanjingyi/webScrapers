{
 "cells": [
  {
   "cell_type": "code",
   "execution_count": 1,
   "metadata": {},
   "outputs": [],
   "source": [
    "from selenium import webdriver\n",
    "from selenium.webdriver.support.select import Select\n",
    "from selenium.webdriver.support.ui import WebDriverWait\n",
    "from selenium.webdriver.common.by import By\n",
    "from selenium.webdriver.support import expected_conditions as EC\n",
    "import time"
   ]
  },
  {
   "cell_type": "markdown",
   "metadata": {},
   "source": [
    "doc for finding elements in Selenium:\n",
    "\n",
    "    https://selenium-python-zh.readthedocs.io/en/latest/locating-elements.html"
   ]
  },
  {
   "cell_type": "code",
   "execution_count": 2,
   "metadata": {},
   "outputs": [],
   "source": [
    "def openlink(link):\n",
    "    # Set Firefox Profile \n",
    "    fp = webdriver.FirefoxProfile()\n",
    "    fp.set_preference('browser.download.dir','/mnt/c/Users/jhan/Downloads')\n",
    "    fp.set_preference('browser.download.manager.showWhenStarting',False)\n",
    "    fp.set_preference('browser.download.folderList',2)\n",
    "    fp.set_preference('browser.helperApps.neverAsk.saveToDisk','application/pdf')\n",
    "    fp.set_preference('pdfjs.disabled', True)\n",
    "    fp.set_preference('plugin.scan.plid.all', False)\n",
    "    fp.set_preference('plugin.scan.Acrobat','99.0')\n",
    "    \n",
    "    # Open web and get ride of popup windows\n",
    "    browser = webdriver.Firefox(firefox_profile=fp, executable_path = '/mnt/c/Program Files/Mozilla Firefox/geckodriver.exe')\n",
    "    browser.get(link)\n",
    "    pop1 = browser.find_element_by_id('lbtnCheckButton')\n",
    "    pop1.click()\n",
    "    pop2_read = browser.find_element_by_id('BodyContent_ckbAgree')\n",
    "    pop2_read.click()\n",
    "    time.sleep(3)\n",
    "    pop3_agree = browser.find_element_by_id('BodyContent_btnAgree')\n",
    "    pop3_agree.click()\n",
    "    return browser\n",
    "    \n",
    "    "
   ]
  },
  {
   "cell_type": "code",
   "execution_count": 3,
   "metadata": {},
   "outputs": [
    {
     "data": {
      "text/plain": [
       "57"
      ]
     },
     "execution_count": 3,
     "metadata": {},
     "output_type": "execute_result"
    }
   ],
   "source": [
    "browser = openlink('https://www.pfizermedicalinformation.cn/Default.aspx?ReturnUrl=%2fPackageInserts.aspx')\n",
    "time.sleep(5)\n",
    "el = browser.find_element_by_id('BodyContent_ddlTradeName')\n",
    "options = el.find_elements_by_tag_name('option')\n",
    "len(options)"
   ]
  },
  {
   "cell_type": "code",
   "execution_count": 5,
   "metadata": {},
   "outputs": [
    {
     "data": {
      "text/plain": [
       "56"
      ]
     },
     "execution_count": 5,
     "metadata": {},
     "output_type": "execute_result"
    }
   ],
   "source": [
    "len(list(range(1,57)))"
   ]
  },
  {
   "cell_type": "code",
   "execution_count": null,
   "metadata": {},
   "outputs": [],
   "source": []
  },
  {
   "cell_type": "code",
   "execution_count": 3,
   "metadata": {},
   "outputs": [],
   "source": [
    "\n",
    "\n",
    "for n in range(1,57):\n",
    "        \n",
    "        browser = openlink('https://www.pfizermedicalinformation.cn/Default.aspx?ReturnUrl=%2fPackageInserts.aspx')\n",
    "        time.sleep(5)\n",
    "        el = browser.find_element_by_id('BodyContent_ddlTradeName')\n",
    "        options = el.find_elements_by_tag_name('option')\n",
    "        op = options[n]\n",
    "        \n",
    "        op.click()\n",
    "    #   After each click, the web reload, although it looks like the same, but it's different,\n",
    "    #   So after each click, we have to reassign the variables.\n",
    "        search_button = browser.find_element_by_id('BodyContent_GreenButton1')\n",
    "        el = browser.find_element_by_id('BodyContent_ddlTradeName')\n",
    "        options = el.find_elements_by_tag_name('option')\n",
    "        search_button.click()\n",
    "        search_button = browser.find_element_by_id('BodyContent_GreenButton1')\n",
    "        el = browser.find_element_by_id('BodyContent_ddlTradeName')\n",
    "        options = el.find_elements_by_tag_name('option')\n",
    "        #time.sleep(3)\n",
    "        link = browser.find_element_by_partial_link_text('.pdf')\n",
    "        link.click()\n",
    "    #   wait several min for downloading PDF\n",
    "        time.sleep(6)\n",
    "        browser.close()"
   ]
  },
  {
   "cell_type": "code",
   "execution_count": 23,
   "metadata": {},
   "outputs": [
    {
     "ename": "SessionNotCreatedException",
     "evalue": "Message: Tried to run command without establishing a connection\n",
     "output_type": "error",
     "traceback": [
      "\u001b[0;31m---------------------------------------------------------------------------\u001b[0m",
      "\u001b[0;31mSessionNotCreatedException\u001b[0m                Traceback (most recent call last)",
      "\u001b[0;32m<ipython-input-23-40587024c1c3>\u001b[0m in \u001b[0;36m<module>\u001b[0;34m()\u001b[0m\n\u001b[1;32m      9\u001b[0m     \u001b[0;32mfor\u001b[0m \u001b[0mop\u001b[0m \u001b[0;32min\u001b[0m \u001b[0moptions\u001b[0m\u001b[0;34m[\u001b[0m\u001b[0mn\u001b[0m\u001b[0;34m:\u001b[0m\u001b[0;34m]\u001b[0m\u001b[0;34m:\u001b[0m\u001b[0;34m\u001b[0m\u001b[0m\n\u001b[1;32m     10\u001b[0m \u001b[0;34m\u001b[0m\u001b[0m\n\u001b[0;32m---> 11\u001b[0;31m         \u001b[0mop\u001b[0m\u001b[0;34m.\u001b[0m\u001b[0mclick\u001b[0m\u001b[0;34m(\u001b[0m\u001b[0;34m)\u001b[0m\u001b[0;34m\u001b[0m\u001b[0m\n\u001b[0m\u001b[1;32m     12\u001b[0m     \u001b[0;31m#   After each click, the web reload, although it looks like the same, but it's different,\u001b[0m\u001b[0;34m\u001b[0m\u001b[0;34m\u001b[0m\u001b[0m\n\u001b[1;32m     13\u001b[0m     \u001b[0;31m#   So after each click, we have to reassign the variables.\u001b[0m\u001b[0;34m\u001b[0m\u001b[0;34m\u001b[0m\u001b[0m\n",
      "\u001b[0;32m/mnt/c/Users/jhan/Tools/env/scrapy/lib/python3.6/site-packages/selenium/webdriver/remote/webelement.py\u001b[0m in \u001b[0;36mclick\u001b[0;34m(self)\u001b[0m\n\u001b[1;32m     78\u001b[0m     \u001b[0;32mdef\u001b[0m \u001b[0mclick\u001b[0m\u001b[0;34m(\u001b[0m\u001b[0mself\u001b[0m\u001b[0;34m)\u001b[0m\u001b[0;34m:\u001b[0m\u001b[0;34m\u001b[0m\u001b[0m\n\u001b[1;32m     79\u001b[0m         \u001b[0;34m\"\"\"Clicks the element.\"\"\"\u001b[0m\u001b[0;34m\u001b[0m\u001b[0m\n\u001b[0;32m---> 80\u001b[0;31m         \u001b[0mself\u001b[0m\u001b[0;34m.\u001b[0m\u001b[0m_execute\u001b[0m\u001b[0;34m(\u001b[0m\u001b[0mCommand\u001b[0m\u001b[0;34m.\u001b[0m\u001b[0mCLICK_ELEMENT\u001b[0m\u001b[0;34m)\u001b[0m\u001b[0;34m\u001b[0m\u001b[0m\n\u001b[0m\u001b[1;32m     81\u001b[0m \u001b[0;34m\u001b[0m\u001b[0m\n\u001b[1;32m     82\u001b[0m     \u001b[0;32mdef\u001b[0m \u001b[0msubmit\u001b[0m\u001b[0;34m(\u001b[0m\u001b[0mself\u001b[0m\u001b[0;34m)\u001b[0m\u001b[0;34m:\u001b[0m\u001b[0;34m\u001b[0m\u001b[0m\n",
      "\u001b[0;32m/mnt/c/Users/jhan/Tools/env/scrapy/lib/python3.6/site-packages/selenium/webdriver/remote/webelement.py\u001b[0m in \u001b[0;36m_execute\u001b[0;34m(self, command, params)\u001b[0m\n\u001b[1;32m    626\u001b[0m             \u001b[0mparams\u001b[0m \u001b[0;34m=\u001b[0m \u001b[0;34m{\u001b[0m\u001b[0;34m}\u001b[0m\u001b[0;34m\u001b[0m\u001b[0m\n\u001b[1;32m    627\u001b[0m         \u001b[0mparams\u001b[0m\u001b[0;34m[\u001b[0m\u001b[0;34m'id'\u001b[0m\u001b[0;34m]\u001b[0m \u001b[0;34m=\u001b[0m \u001b[0mself\u001b[0m\u001b[0;34m.\u001b[0m\u001b[0m_id\u001b[0m\u001b[0;34m\u001b[0m\u001b[0m\n\u001b[0;32m--> 628\u001b[0;31m         \u001b[0;32mreturn\u001b[0m \u001b[0mself\u001b[0m\u001b[0;34m.\u001b[0m\u001b[0m_parent\u001b[0m\u001b[0;34m.\u001b[0m\u001b[0mexecute\u001b[0m\u001b[0;34m(\u001b[0m\u001b[0mcommand\u001b[0m\u001b[0;34m,\u001b[0m \u001b[0mparams\u001b[0m\u001b[0;34m)\u001b[0m\u001b[0;34m\u001b[0m\u001b[0m\n\u001b[0m\u001b[1;32m    629\u001b[0m \u001b[0;34m\u001b[0m\u001b[0m\n\u001b[1;32m    630\u001b[0m     \u001b[0;32mdef\u001b[0m \u001b[0mfind_element\u001b[0m\u001b[0;34m(\u001b[0m\u001b[0mself\u001b[0m\u001b[0;34m,\u001b[0m \u001b[0mby\u001b[0m\u001b[0;34m=\u001b[0m\u001b[0mBy\u001b[0m\u001b[0;34m.\u001b[0m\u001b[0mID\u001b[0m\u001b[0;34m,\u001b[0m \u001b[0mvalue\u001b[0m\u001b[0;34m=\u001b[0m\u001b[0;32mNone\u001b[0m\u001b[0;34m)\u001b[0m\u001b[0;34m:\u001b[0m\u001b[0;34m\u001b[0m\u001b[0m\n",
      "\u001b[0;32m/mnt/c/Users/jhan/Tools/env/scrapy/lib/python3.6/site-packages/selenium/webdriver/remote/webdriver.py\u001b[0m in \u001b[0;36mexecute\u001b[0;34m(self, driver_command, params)\u001b[0m\n\u001b[1;32m    318\u001b[0m         \u001b[0mresponse\u001b[0m \u001b[0;34m=\u001b[0m \u001b[0mself\u001b[0m\u001b[0;34m.\u001b[0m\u001b[0mcommand_executor\u001b[0m\u001b[0;34m.\u001b[0m\u001b[0mexecute\u001b[0m\u001b[0;34m(\u001b[0m\u001b[0mdriver_command\u001b[0m\u001b[0;34m,\u001b[0m \u001b[0mparams\u001b[0m\u001b[0;34m)\u001b[0m\u001b[0;34m\u001b[0m\u001b[0m\n\u001b[1;32m    319\u001b[0m         \u001b[0;32mif\u001b[0m \u001b[0mresponse\u001b[0m\u001b[0;34m:\u001b[0m\u001b[0;34m\u001b[0m\u001b[0m\n\u001b[0;32m--> 320\u001b[0;31m             \u001b[0mself\u001b[0m\u001b[0;34m.\u001b[0m\u001b[0merror_handler\u001b[0m\u001b[0;34m.\u001b[0m\u001b[0mcheck_response\u001b[0m\u001b[0;34m(\u001b[0m\u001b[0mresponse\u001b[0m\u001b[0;34m)\u001b[0m\u001b[0;34m\u001b[0m\u001b[0m\n\u001b[0m\u001b[1;32m    321\u001b[0m             response['value'] = self._unwrap_value(\n\u001b[1;32m    322\u001b[0m                 response.get('value', None))\n",
      "\u001b[0;32m/mnt/c/Users/jhan/Tools/env/scrapy/lib/python3.6/site-packages/selenium/webdriver/remote/errorhandler.py\u001b[0m in \u001b[0;36mcheck_response\u001b[0;34m(self, response)\u001b[0m\n\u001b[1;32m    240\u001b[0m                 \u001b[0malert_text\u001b[0m \u001b[0;34m=\u001b[0m \u001b[0mvalue\u001b[0m\u001b[0;34m[\u001b[0m\u001b[0;34m'alert'\u001b[0m\u001b[0;34m]\u001b[0m\u001b[0;34m.\u001b[0m\u001b[0mget\u001b[0m\u001b[0;34m(\u001b[0m\u001b[0;34m'text'\u001b[0m\u001b[0;34m)\u001b[0m\u001b[0;34m\u001b[0m\u001b[0m\n\u001b[1;32m    241\u001b[0m             \u001b[0;32mraise\u001b[0m \u001b[0mexception_class\u001b[0m\u001b[0;34m(\u001b[0m\u001b[0mmessage\u001b[0m\u001b[0;34m,\u001b[0m \u001b[0mscreen\u001b[0m\u001b[0;34m,\u001b[0m \u001b[0mstacktrace\u001b[0m\u001b[0;34m,\u001b[0m \u001b[0malert_text\u001b[0m\u001b[0;34m)\u001b[0m\u001b[0;34m\u001b[0m\u001b[0m\n\u001b[0;32m--> 242\u001b[0;31m         \u001b[0;32mraise\u001b[0m \u001b[0mexception_class\u001b[0m\u001b[0;34m(\u001b[0m\u001b[0mmessage\u001b[0m\u001b[0;34m,\u001b[0m \u001b[0mscreen\u001b[0m\u001b[0;34m,\u001b[0m \u001b[0mstacktrace\u001b[0m\u001b[0;34m)\u001b[0m\u001b[0;34m\u001b[0m\u001b[0m\n\u001b[0m\u001b[1;32m    243\u001b[0m \u001b[0;34m\u001b[0m\u001b[0m\n\u001b[1;32m    244\u001b[0m     \u001b[0;32mdef\u001b[0m \u001b[0m_value_or_default\u001b[0m\u001b[0;34m(\u001b[0m\u001b[0mself\u001b[0m\u001b[0;34m,\u001b[0m \u001b[0mobj\u001b[0m\u001b[0;34m,\u001b[0m \u001b[0mkey\u001b[0m\u001b[0;34m,\u001b[0m \u001b[0mdefault\u001b[0m\u001b[0;34m)\u001b[0m\u001b[0;34m:\u001b[0m\u001b[0;34m\u001b[0m\u001b[0m\n",
      "\u001b[0;31mSessionNotCreatedException\u001b[0m: Message: Tried to run command without establishing a connection\n"
     ]
    }
   ],
   "source": [
    "for n in range(1,58):\n",
    "    \n",
    "    browser = openlink('https://www.pfizermedicalinformation.cn/Default.aspx?ReturnUrl=%2fPackageInserts.aspx')\n",
    "    time.sleep(5)\n",
    "    el = browser.find_element_by_id('BodyContent_ddlTradeName')\n",
    "    options = el.find_elements_by_tag_name('option')\n",
    "    #search_button = browser.find_element_by_id('BodyContent_GreenButton1')\n",
    "\n",
    "    for op in options[n:]:\n",
    "\n",
    "        op.click()\n",
    "    #   After each click, the web reload, although it looks like the same, but it's different,\n",
    "    #   So after each click, we have to reassign the variables.\n",
    "        search_button = browser.find_element_by_id('BodyContent_GreenButton1')\n",
    "        el = browser.find_element_by_id('BodyContent_ddlTradeName')\n",
    "        options = el.find_elements_by_tag_name('option')\n",
    "        search_button.click()\n",
    "        search_button = browser.find_element_by_id('BodyContent_GreenButton1')\n",
    "        el = browser.find_element_by_id('BodyContent_ddlTradeName')\n",
    "        options = el.find_elements_by_tag_name('option')\n",
    "        #time.sleep(3)\n",
    "        link = browser.find_element_by_partial_link_text('.pdf')\n",
    "        link.click()\n",
    "    #   wait several min for downloading PDF\n",
    "        time.sleep(6)\n",
    "        browser.close()\n",
    "    \n",
    "\n"
   ]
  },
  {
   "cell_type": "code",
   "execution_count": null,
   "metadata": {},
   "outputs": [],
   "source": []
  },
  {
   "cell_type": "code",
   "execution_count": 2,
   "metadata": {},
   "outputs": [],
   "source": [
    "def openlink(link):\n",
    "    # Set Firefox Profile \n",
    "    fp = webdriver.FirefoxProfile()\n",
    "    fp.set_preference('browser.download.dir','/mnt/c/Users/jhan/Downloads')\n",
    "    fp.set_preference('browser.download.manager.showWhenStarting',False)\n",
    "    fp.set_preference('browser.download.folderList',2)\n",
    "    fp.set_preference('browser.helperApps.neverAsk.saveToDisk','application/pdf')\n",
    "    fp.set_preference('pdfjs.disabled', True)\n",
    "    fp.set_preference('plugin.scan.plid.all', False)\n",
    "    fp.set_preference('plugin.scan.Acrobat','99.0')\n",
    "    \n",
    "    # Open web and get ride of popup windows\n",
    "    browser = webdriver.Firefox(firefox_profile=fp, executable_path = '/mnt/c/Program Files/Mozilla Firefox/geckodriver.exe')\n",
    "    browser.get(link)\n",
    "    pop1 = browser.find_element_by_id('lbtnCheckButton')\n",
    "    pop1.click()\n",
    "    pop2_read = browser.find_element_by_id('BodyContent_ckbAgree')\n",
    "    pop2_read.click()\n",
    "    time.sleep(3)\n",
    "    pop3_agree = browser.find_element_by_id('BodyContent_btnAgree')\n",
    "    pop3_agree.click()\n",
    "    \n",
    "    "
   ]
  },
  {
   "cell_type": "code",
   "execution_count": null,
   "metadata": {},
   "outputs": [],
   "source": []
  },
  {
   "cell_type": "code",
   "execution_count": 25,
   "metadata": {},
   "outputs": [],
   "source": [
    "openlink('https://www.pfizermedicalinformation.cn/Default.aspx?ReturnUrl=%2fPackageInserts.aspx')"
   ]
  },
  {
   "cell_type": "code",
   "execution_count": null,
   "metadata": {},
   "outputs": [],
   "source": []
  },
  {
   "cell_type": "code",
   "execution_count": 8,
   "metadata": {},
   "outputs": [],
   "source": [
    "pop1 = browser.find_element_by_id('lbtnCheckButton')"
   ]
  },
  {
   "cell_type": "code",
   "execution_count": 9,
   "metadata": {},
   "outputs": [],
   "source": [
    "pop1.click()"
   ]
  },
  {
   "cell_type": "code",
   "execution_count": 10,
   "metadata": {},
   "outputs": [],
   "source": [
    "pop2_read = browser.find_element_by_id('BodyContent_ckbAgree')"
   ]
  },
  {
   "cell_type": "code",
   "execution_count": 14,
   "metadata": {},
   "outputs": [
    {
     "data": {
      "text/plain": [
       "<selenium.webdriver.firefox.webelement.FirefoxWebElement (session=\"5d69b142-5ab6-43f2-811f-e009ffc15fe7\", element=\"95f1eab9-19ae-4b89-bc0f-c62f82aad4a5\")>"
      ]
     },
     "execution_count": 14,
     "metadata": {},
     "output_type": "execute_result"
    }
   ],
   "source": [
    "pop2_read"
   ]
  },
  {
   "cell_type": "code",
   "execution_count": 11,
   "metadata": {},
   "outputs": [],
   "source": [
    "pop2_read.click()"
   ]
  },
  {
   "cell_type": "code",
   "execution_count": 12,
   "metadata": {},
   "outputs": [],
   "source": [
    "pop3_agree = browser.find_element_by_id('BodyContent_btnAgree')"
   ]
  },
  {
   "cell_type": "code",
   "execution_count": 13,
   "metadata": {},
   "outputs": [
    {
     "data": {
      "text/plain": [
       "<selenium.webdriver.firefox.webelement.FirefoxWebElement (session=\"5d69b142-5ab6-43f2-811f-e009ffc15fe7\", element=\"38a87714-52b7-44a0-bee5-cfecdcb7fba5\")>"
      ]
     },
     "execution_count": 13,
     "metadata": {},
     "output_type": "execute_result"
    }
   ],
   "source": [
    "pop3_agree"
   ]
  },
  {
   "cell_type": "code",
   "execution_count": 15,
   "metadata": {},
   "outputs": [],
   "source": [
    "pop3_agree.click()"
   ]
  },
  {
   "cell_type": "code",
   "execution_count": null,
   "metadata": {},
   "outputs": [],
   "source": []
  }
 ],
 "metadata": {
  "kernelspec": {
   "display_name": "Python 3",
   "language": "python",
   "name": "python3"
  },
  "language_info": {
   "codemirror_mode": {
    "name": "ipython",
    "version": 3
   },
   "file_extension": ".py",
   "mimetype": "text/x-python",
   "name": "python",
   "nbconvert_exporter": "python",
   "pygments_lexer": "ipython3",
   "version": "3.6.5"
  }
 },
 "nbformat": 4,
 "nbformat_minor": 2
}
