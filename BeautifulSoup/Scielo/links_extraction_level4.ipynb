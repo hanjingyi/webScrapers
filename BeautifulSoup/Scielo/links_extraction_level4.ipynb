{
 "cells": [
  {
   "cell_type": "code",
   "execution_count": 1,
   "metadata": {},
   "outputs": [],
   "source": [
    "from bs4 import BeautifulSoup\n",
    "from urllib.request import Request, urlopen\n",
    "import re\n",
    "import urllib.request\n",
    "from urllib.request import urlopen\n",
    "from urllib.request import HTTPError, URLError"
   ]
  },
  {
   "cell_type": "code",
   "execution_count": 14,
   "metadata": {},
   "outputs": [],
   "source": [
    "req=Request('http://www.scielo.org.pe/scielo.php?script=sci_issuetoc&pid=1728-591720180001&lng=es&nrm=iso')\n",
    "web_page = urlopen(req)\n",
    "soup = BeautifulSoup(web_page, 'lxml')\n",
    "\n",
    "links = []\n",
    "all_herfs = soup.findAll(name='a')"
   ]
  },
  {
   "cell_type": "code",
   "execution_count": 15,
   "metadata": {},
   "outputs": [],
   "source": [
    "for link in soup.findAll('a'):\n",
    "    num = link.string\n",
    "    if num is not None:\n",
    "        if num =='texto en  Español':\n",
    "            links.append(link.get('href'))"
   ]
  },
  {
   "cell_type": "code",
   "execution_count": null,
   "metadata": {},
   "outputs": [],
   "source": [
    "links"
   ]
  },
  {
   "cell_type": "code",
   "execution_count": null,
   "metadata": {},
   "outputs": [],
   "source": []
  },
  {
   "cell_type": "markdown",
   "metadata": {},
   "source": [
    "Link collection - Level.4\n",
    "\n",
    "\n",
    "Collect \"todos\" links from the links extracted in level-3"
   ]
  },
  {
   "cell_type": "code",
   "execution_count": 5,
   "metadata": {},
   "outputs": [],
   "source": [
    "# Link collection - Level.4\n",
    "# Collect \"todos\" links from the links extracted in level-3\n",
    "\n",
    "def extract_links_level4(links_level3):\n",
    "    links_level4 = []\n",
    "    headers={\n",
    "        'User-Agent': 'Mozilla/5.0 (Macintosh; Intel Mac OS X 10_9_3) AppleWebKit/537.36 (KHTML, like Gecko) Chrome/35.0.1916.47 Safari/537.36'\n",
    "    }\n",
    "    for idx,link in enumerate(links_level3):\n",
    "        req = Request(link, headers=headers)\n",
    "        web_page = urlopen(req)\n",
    "        soup = BeautifulSoup(web_page, 'lxml')\n",
    "        \n",
    "        for x in soup.findAll('a'):\n",
    "            num = x.string\n",
    "            if num is not None:\n",
    "                if num in ['texto en  Español','texto em  Espanhol']:\n",
    "                    links_level4.append(x.get('href'))\n",
    "        print(\"In total there are {} links, now number {} is being process\".format(len(links_level3),idx+1))\n",
    "    return links_level4"
   ]
  },
  {
   "cell_type": "code",
   "execution_count": 6,
   "metadata": {},
   "outputs": [
    {
     "name": "stdout",
     "output_type": "stream",
     "text": [
      "In total there are 3 links, now number 1 is being process\n",
      "In total there are 3 links, now number 2 is being process\n",
      "In total there are 3 links, now number 3 is being process\n"
     ]
    }
   ],
   "source": [
    "output = extract_links_level4(['http://www.scielo.org.pe/scielo.php?script=sci_issuetoc&pid=1728-591720160002&lng=pt&nrm=iso',\n",
    "                              'http://scielo.isciii.es/scielo.php?script=sci_issuetoc&pid=1578-908X20160002&lng=pt&nrm=iso',\n",
    "                              'http://www.scielo.org.pe/scielo.php?script=sci_issuetoc&pid=1728-591720140004&lng=pt&nrm=iso'])"
   ]
  },
  {
   "cell_type": "code",
   "execution_count": 8,
   "metadata": {},
   "outputs": [
    {
     "data": {
      "text/plain": [
       "45"
      ]
     },
     "execution_count": 8,
     "metadata": {},
     "output_type": "execute_result"
    }
   ],
   "source": [
    "len(output)"
   ]
  },
  {
   "cell_type": "code",
   "execution_count": null,
   "metadata": {},
   "outputs": [],
   "source": []
  }
 ],
 "metadata": {
  "kernelspec": {
   "display_name": "Python 3",
   "language": "python",
   "name": "python3"
  },
  "language_info": {
   "codemirror_mode": {
    "name": "ipython",
    "version": 3
   },
   "file_extension": ".py",
   "mimetype": "text/x-python",
   "name": "python",
   "nbconvert_exporter": "python",
   "pygments_lexer": "ipython3",
   "version": "3.6.5"
  }
 },
 "nbformat": 4,
 "nbformat_minor": 2
}
