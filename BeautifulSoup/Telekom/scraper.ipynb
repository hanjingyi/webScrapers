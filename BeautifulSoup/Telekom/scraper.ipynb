{
 "cells": [
  {
   "cell_type": "code",
   "execution_count": 1,
   "metadata": {},
   "outputs": [],
   "source": [
    "from bs4 import BeautifulSoup\n",
    "from urllib.request import Request, urlopen\n",
    "import re\n",
    "import urllib.request\n",
    "from urllib.request import urlopen\n",
    "from urllib.request import HTTPError, URLError\n",
    "import http.client\n",
    "import socket"
   ]
  },
  {
   "cell_type": "code",
   "execution_count": 2,
   "metadata": {},
   "outputs": [
    {
     "name": "stderr",
     "output_type": "stream",
     "text": [
      "/mnt/c/Users/jhan/Tools/env/scrapy/lib/python3.6/importlib/_bootstrap.py:219: RuntimeWarning: numpy.dtype size changed, may indicate binary incompatibility. Expected 96, got 88\n",
      "  return f(*args, **kwds)\n"
     ]
    }
   ],
   "source": [
    "import re\n",
    "import pandas as pd\n",
    "import string"
   ]
  },
  {
   "cell_type": "code",
   "execution_count": null,
   "metadata": {},
   "outputs": [],
   "source": [
    "def openfile(file):\n",
    "    with open(file, 'r',encoding='utf8') as f:\n",
    "        l = [line.strip() for line in f]\n",
    "        return l"
   ]
  },
  {
   "cell_type": "code",
   "execution_count": 3,
   "metadata": {},
   "outputs": [],
   "source": [
    "req = Request('https://www.telekom.com/en/glossary')\n",
    "web_page = urlopen(req)\n",
    "soup = BeautifulSoup(web_page, 'lxml')"
   ]
  },
  {
   "cell_type": "code",
   "execution_count": 18,
   "metadata": {},
   "outputs": [],
   "source": [
    "# Get each char (A-Z)\n",
    "\n",
    "B = soup.findAll('div',{'data-tabtext':'B'})\n"
   ]
  },
  {
   "cell_type": "code",
   "execution_count": 19,
   "metadata": {},
   "outputs": [
    {
     "data": {
      "text/plain": [
       "'Backbone'"
      ]
     },
     "execution_count": 19,
     "metadata": {},
     "output_type": "execute_result"
    }
   ],
   "source": [
    "# Get each title of each char\n",
    "\n",
    "B = B[0]\n",
    "titles = B.findAll('div', {'class': 'module id28 accordion pane'})\n",
    "titles[0]['data-panetext']"
   ]
  },
  {
   "cell_type": "code",
   "execution_count": 20,
   "metadata": {},
   "outputs": [
    {
     "data": {
      "text/plain": [
       "'Indispensable portion of a trans-regional or global network configuration for connecting local sub-networks, at high speed as a rule (in the Mbit/s and Gbit/s range).'"
      ]
     },
     "execution_count": 20,
     "metadata": {},
     "output_type": "execute_result"
    }
   ],
   "source": [
    "# Get text of each title of each char\n",
    "\n",
    "titles[0].findChild('div', {'class': 'richtext'}).get_text().strip()"
   ]
  },
  {
   "cell_type": "code",
   "execution_count": 16,
   "metadata": {},
   "outputs": [],
   "source": [
    "# Fit contents to dataframe and output csv\n",
    "\n",
    "d = {'Titles':l_titles, 'Contents':l_texts}\n",
    "df = pd.DataFrame(data=d)"
   ]
  },
  {
   "cell_type": "code",
   "execution_count": 3,
   "metadata": {},
   "outputs": [],
   "source": [
    "# Whole scraping process\n",
    "\n",
    "req = Request('https://www.telekom.com/de/glossar')\n",
    "web_page = urlopen(req)\n",
    "soup = BeautifulSoup(web_page, 'lxml')\n",
    "\n",
    "l_titles = []\n",
    "l_texts = []\n",
    "l_cat_default = ['NST']*221\n",
    "\n",
    "for i in string.ascii_uppercase:\n",
    "    x = soup.findAll('div',{'data-tabtext':i})\n",
    "\n",
    "    for char in soup.findAll('div',{'data-tabtext':i}):\n",
    "        titles = char.findAll('div', {'class': 'module id28 accordion pane'})\n",
    "\n",
    "        for t in titles:\n",
    "            l_titles.append(t['data-panetext'])\n",
    "            l_texts.append(t.findChild('div', {'class': 'richtext'}).get_text().strip())\n",
    "                \n",
    "                \n",
    "d = {'SLCAN':l_titles, 'SLCAT':l_cat_default,'CONTEXT':l_texts}\n",
    "df = pd.DataFrame(data=d)\n",
    "\n",
    "df.to_csv('telekom_de.csv',sep=';',index=False,encoding='utf8')"
   ]
  },
  {
   "cell_type": "code",
   "execution_count": null,
   "metadata": {},
   "outputs": [],
   "source": []
  },
  {
   "cell_type": "code",
   "execution_count": null,
   "metadata": {},
   "outputs": [],
   "source": []
  },
  {
   "cell_type": "code",
   "execution_count": 4,
   "metadata": {},
   "outputs": [],
   "source": [
    "l_titles = []\n",
    "l_texts = []\n",
    "\n",
    "req = Request('https://www.telekom.com/en/glossary')\n",
    "web_page = urlopen(req)\n",
    "soup = BeautifulSoup(web_page, 'lxml')\n",
    "\n",
    "for i in string.ascii_uppercase:\n",
    "    x = soup.findAll('div',{'data-tabtext':i})\n",
    "    for char in soup.findAll('div',{'data-tabtext':i}):\n",
    "        titles = char.findAll('div', {'class': 'module id28 accordion pane'})\n",
    "        \n",
    "        for t in titles:\n",
    "            l_titles.append(t['data-panetext'])\n",
    "            l_texts.append(t.findChild('div', {'class': 'richtext'}).get_text().strip())"
   ]
  },
  {
   "cell_type": "code",
   "execution_count": 5,
   "metadata": {},
   "outputs": [
    {
     "data": {
      "text/plain": [
       "183"
      ]
     },
     "execution_count": 5,
     "metadata": {},
     "output_type": "execute_result"
    }
   ],
   "source": [
    "len(l_titles)"
   ]
  },
  {
   "cell_type": "code",
   "execution_count": 6,
   "metadata": {},
   "outputs": [
    {
     "data": {
      "text/plain": [
       "['Ambient Assisted Living: A generic term for assistance systems that enable the elderly to live independently in their own home for as long as possible or help ensure that the chronically ill do not have to make strenuous, expensive journeys to physicians and care providers. They provide access to help in everyday situations in the home or as part of care, prevention, and rehabilitation.',\n",
       " 'Asymmetric Digital Subscriber Line - Using an asymmetrical transmission method, allows high-speed data transmission over conventional telephone lines (copper pair cables).ADSL is particularly suitable for Internet access where subscribers download large amounts of data from the net but upload relatively small volumes of data.',\n",
       " 'The All-IP connection is based on the Internet Protocol (IP) and is being rolled out by Deutsche Telekom to create a standard connection for connected life and work. The hallmark feature of All-IP networks is that all services such as Voice over IP and IP TV, online games, data transfer, or multimedia e-mails take place over the Internet and can be accessed by any user, anytime and anywhere. See also IP, Voice over IP and IP TV.',\n",
       " 'Androides in Greek - \"human-like\": an operating system used in many of the latest smartphones except for the Apple iPhone and the Windows Phone. It has been developed under Google\\'s lead since 2007. Android is the only open smartphone operating system, i.e. Android users can also acquire software from other sources - for instance apps from the Telekom Customer Center.',\n",
       " '\"Apps\" stands for applications. These are small application programs that can be used, for instance, on smart phones or tablets and can be downloaded from an App Store.',\n",
       " 'For details on the AT&T transaction relating to T-Mobile USA and the effects of the termination of the agreement on the sale of the former T-Mobile\\xa0USA to AT&T, please refer to the 2011 Annual Report',\n",
       " 'Agreement concluded in 2001 between the local government central associations – the German Association of Cities and Towns, the German County Association, and the German Association of Towns and Municipalities – and the mobile network operators, giving communities a say in mobile network expansion.',\n",
       " '\"Automotive\" is the generic term for all activities in the sectors that supply components, products or services to the automotive industry.',\n",
       " 'Indispensable portion of a trans-regional or global network configuration for connecting local sub-networks, at high speed as a rule (in the Mbit/s and Gbit/s range).',\n",
       " 'This term denotes the transmission performance of a line system and is specified in bits/s or Mbit/s. Sufficient bandwidth is a prerequisite for trouble-free data communication.',\n",
       " 'Denotes the maximum permissible value with which electromagnetic fields may have an effect on human beings. The basic limit is expressed as the “Specific Absorption Rate” (SAR). Since it is hard to measure in practice, reference limits are preferred. In order to take the protection of highly sensitive people into account, the basic limit includes a safety margin.',\n",
       " 'Transmitting and receiving system for mobile communications, serving a limited area (radio cell).',\n",
       " 'Regulation on the procedure for providing evidence of the limitation of electromagnetic fields.',\n",
       " 'Bundesamt für Strahlenschutz (Federal Office for Radiation Protection).',\n",
       " 'Big data refers to huge amounts of data which cannot be processed or can only be processed poorly using standard databases and data management tools. This data can, however, be stored and analyzed using suitable IT applications. Enterprises can, for instance, analyze forum contributions on the Internet, or internal operating and machine data in order to optimize their strategy as well as structures and processes.',\n",
       " 'Bundesimmissionsschutzverordnung Federal immission control ordinance (EMF Ordinance in Germany).',\n",
       " 'Wholesale service used by alternative telephone companies to provide broadband lines.',\n",
       " 'A Personal Area Network standard whose main features were set out as early as 1994 when engineer Japp Haartsen and his employer, Ericsson, were tasked with developing a radio link between headsets and cell phones.In 1997, the Cable Replacement Standard which resulted from this work was named in honor of Danish Viking King Harald Bluetooth (915 to 968).',\n",
       " 'Bundesministerium für Umwelt, Naturschutz, Bau und Reaktorsicherheit (Federal Ministry for the Environment, Nature Conservation, Building and Nuclear Safety). Short form: Bundesumweltministerium (Federal Environment Ministry).',\n",
       " 'Bundesnetzagentur. As a higher federal authority, the “Federal Network Agency for electricity, gas, telecommunications, post and railways” regulates such sectors as the post and telecommunications markets.Its area of responsibility includes promoting further development of the telecommunications market through liberalization and deregulation. It is also responsible for site approval procedures when mobile communications networks are expanded.',\n",
       " 'BYOD is an organizational policy that governs the usage of privately owned electronic devices such as smartphones, notebooks, or tablets in the enterprise. This trend will radically alter the working practices and IT structure of enterprises and calls for the utmost care as regards data security.',\n",
       " 'Computer Aided Design: computer-aided design, construction and development in fields such as architecture, construction, mechanical engineering etc. CAD is characterized by extremely advanced graphical data processing.',\n",
       " 'A means of making and billing individual phone calls or Internet connections via another provider other than via the telephone line. In Germany, only Deutsche Telekom landlines support call-by-call as a standard procedure.',\n",
       " 'A call center is the term for a corporate area or a standalone enterprise in which market contacts are actively (outbound) or passively (inbound) created by telephone. Apart from service offerings, call centers often perform telesales, as a form of direct marketing.',\n",
       " 'A telecommunications network operator.',\n",
       " 'Investments in property, plant and equipment, and intangible assets (excluding goodwill) as shown in the statement of cash flows.',\n",
       " 'Corporate Identity/Corporate Design.Corporate Identity is the term used to denote the totality of the characteristics of a company. The Corporate Identity concept is based on the idea that companies are perceived in the same way as individuals and can act in the same way as individuals. Corporate Identity typically includes a company’s corporate philosophy, its mission statement, terminology and action guidelines. Corporate Identity is closely linked to Corporate Design (CD) which defines how a company appears to the outside world, for instance by producing and using a logo or standardized design specifications for printed matter.',\n",
       " 'Cloud computing provides users with everything that they used to access locally on their computers from the Internet, for example word-processing programs, anti-virus software or storage space. This works regardless of where a user happens to be or the particular terminal (PC, notebook, tablet or smart phone) that they are using. The crucial requirement is Internet access in order to access the cloud from where applications are made available.',\n",
       " 'Networking vehicles using mobile Internet connections. The occupants can therefore send and receive e-mails, find out about traffic jams and free parking spaces, or obtain remote diagnostics from the garage. The eCall emergency call system will also be fitted to all new cars from 2015. The system requires a permanently installed SIM card (mobile communications) in the vehicle and a GPS module to be fitted.',\n",
       " 'Networking devices and functions in households or entire apartment buildings. A smartphone or tablet PC can also be used to switch these devices on and off remotely. The heating can be adjusted remotely or the blinds opened or closed while the owners are on vacation. Deutsche Telekom has brought together all the relevant functions in the QIVICON home management platform.',\n",
       " 'Contract concluded over a long period of time with defined advance payment and minimum purchase requirement. In return, the resellers pay a reduced monthly charge for VDSL. This allows them to put together interesting offers for their own consumers without having to invest in fiber-optic lines of their own. This improves the utilization of Telekom Deutschland GmbH’s existing VDSL network. The current “contingent model” is being developed further to reflect the network build-out in terms of availability and bandwidth.',\n",
       " 'Corporate Governance ensures responsible, qualified, transparent corporate management that is geared towards long-term success and intended to improve the trust that shareholders and investors place in capital markets.',\n",
       " 'Also referred to as a Corporate Telecommunications Network (CTN).This is a telecommunications network designed for a limited number of users. A Corporate Network is usually specially adapted to meet the needs of companies or groups of companies. The network services, billing, provisioning and management of a Corporate Network generally differ from those that are characteristic of a network that is accessible to the public (\"public network\").',\n",
       " 'Customer Relationship Management (CRM) facilitates communication in customer processes with reliable data in order to focus attention on relationships that have a high customer value and to identify weaknesses in the way a company interacts with its customers. CRM’s long-term goal is to ensure customer loyalty.',\n",
       " '\"Computer and Telephone Integration\" is the collective term for telephone communication applications (workstation solutions) which make handling telephone calls more convenient and efficient with the help of a PC.Examples of CTI functionalities include dialing from a database, displaying memos for incoming calls and recording notes during a conversation. CTI also makes it possible to enable telephone functions such as call forwarding or conference calling directly from a PC.',\n",
       " 'Protection against Internet crime.',\n",
       " 'An international standard for digital radio broadcasting. Compared with analog standards (FM or VHF), DAB offers better sound quality (CD level), more efficient use of channel spacing and the possibility of transmitting additional information such as traffic information or short text-based messages.',\n",
       " 'The term \"data backup\" is taken to mean copying existing data in a computer system to an alternative (often portable) storage medium. This data is held there for long (but not unlimited) periods of time in order to limit loss of data in the event of system failures.',\n",
       " 'Data privacy originally meant protection of personal data against misuse. The purpose of data privacy is to protect the individual’s right to information self-determination from being violated through the use of his/her personal data.',\n",
       " 'Digital Enhanced Cordless Telecommunications: This transmission standard for cordless home phones ratified by the European Telecommunications Standards Institute (ETSI) in 1992 offers more reliable transmission and greater protection against eavesdropping than previous analog cordless phone systems. DECT phones operate in the microwave frequency range from 1.88 GHz to 1.9 GHz and have a transmit power of 0.25 W.',\n",
       " 'A technology that supports secure, confidential, verifiable communications on the Internet. It works on the same principle as an e-mail. But unlike e-mail, it also meets the legal requirements for communication verifiability. Thus all the participants must be uniquely identified before the service is used for the first time. The provider can also be asked to supply a send and receipt confirmation. As such De-Mail is the equivalent of registered mail.',\n",
       " 'Global desktop services involve a variety of support services, including the outsourcing of entire IT networks. In this context, Deutsche Telekom offers a full portfolio of corporate IT services, from server infrastructure and PC workstations through to application management and call center services that provide user support.',\n",
       " 'The frequency spectrum from 790 to 862 MHz has been freed up thanks to the digitization of radio and TV broadcasting and by re-allocating military radio frequencies - this is referred to as the \"digital dividend\".This frequency spectrum is especially suitable for mobile broadband provision in rural areas. Propagation of radio signals in the low frequency range is better and a base station can therefore cover a larger area. This means that fewer base stations are required for a given surface area and networks can be set up economically.',\n",
       " \"In contrast to analog transmission, digital networks transmit information (voice, images, sound) using the binary digits 0 and 1. These networks include Germany's D-Netz and E-Netz, which are used in mobile communications.\",\n",
       " 'Deutsches Mobilfunk Forschungsprogramm (German Mobile Telecommunications Research Programme).www.emf-forschungsprogramm.de (German)',\n",
       " 'The term \"downlink\" denotes the radio link from a base station to a mobile device (e.g., cell phone or smart phone).',\n",
       " 'Digital Subscriber Line: A technology that can be used to provide domestic users and small businesses with greater transmission bandwidth over conventional copper-wire telephone lines. See also ADSL.',\n",
       " 'DVB-C denotes a variant of DVB that is used to transmit digital value-added services over cable. As a rule, this involves a digital broadcasting of TV signals. Modern TVs have built-in cable receivers.',\n",
       " 'A standard for digital TV for mobile devices, e.g., PDAs or cell phones.',\n",
       " 'DVB-S denotes the transmission of digital video broadcasts by using satellites.',\n",
       " 'Abbreviation for Digital Video Broadcasting - Terrestrial, this refers to the terrestrial transmission of TV signals and is a variant of DVB which is used as the standard for transmitting digital TV and radio by using antennas.',\n",
       " 'Dynamic Services is a T-Systems service that offers the variable provision of ICT resources and services. This can be, for example, computing capacity, data services including storage capacity, or the provision of an application such as SAP including managed services.Services are provided in line with the customer’s needs, and the service volume can be increased or decreased as necessary. Capacity bottlenecks are eliminated, flexibility is enhanced and costs are pared down to those incurred for actual consumption volumes. IT services are thus closely aligned with business needs.',\n",
       " 'In mobile communications, base stations and mobile devices automatically adjust their transmitting power to suit individual transmission scenarios.',\n",
       " 'Short for Electronic Government.Form of e-business that makes it possible to communicate and cooperate electronically with government agencies over the Internet or other networks (citizens’ network, administrative district network) (e.g., interactive handling of administrative processes). The term \"e-government\" also covers electronic communication and cooperation between public authorities and comparable government institutions.',\n",
       " 'The term \"e-health\" denotes all efforts that are made to improve healthcare provision by using information and communications technology.',\n",
       " 'Enhanced Data Rates for GSM Evolution (EDGE) - refers to technology used to increase the data rates in GSM mobile communications networks by introducing an additional modulation technique. EDGE upgrades GPRS to E-GPRS (Enhanced GPRS) and upgrades HSCSD to ECSD (Enhanced Circuit Switched Data).',\n",
       " \"Electroencephalogram, method used to measure the brain's electrical impulses.\",\n",
       " 'Abbreviation for electronic healthcare card.',\n",
       " \"Germany's EMC Act relating to the electromagnetic compatibility (irradiation immunity) of technical devices, dated Sep. 18, 1998.\",\n",
       " 'EU Directives on the electromagnetic compatibility of technical devices (89/336/EEC) dated May 3, 1989.',\n",
       " 'Electromagnetic Environmental Compatibility. Analyzes and evaluates the impact of electromagnetic fields on people and the environment.',\n",
       " 'Electromagnetic fields.',\n",
       " 'In mobile communications, emission refers to the sending out of radio waves or electromagnetic fields.',\n",
       " 'Enterprise Ressource PlanningRefers to systems that help deploy an \\xadorganization’s resources such as capital, equipment, and human resources as \\xadefficiently as possible in order to optimize business processes.',\n",
       " 'Ethernet is a wire-based data network technology that is used for Local Area Networks (LANs). It allows data interchange between any devices that are connected in a local area network (computers, printers, etc.). The standard originally involved LANs that extended over only one building. Nowadays Ethernet technology makes it possible to link up devices over long distances.',\n",
       " 'An energy supply company is a firm that either generates electric power and distributes it over the public electricity grid or supplies natural gas or heat.',\n",
       " 'The (intended or unintended) exposure of an organism or its substructures to external influences (in mobile communications: electromagnetic fields).',\n",
       " 'Extranets are used to deliver information that is made accessible, for example, to companies, customers or partners, but not to the public. Various encryption methods can be used to make connections secure.',\n",
       " 'The \"Federal Network Agency for electricity, gas, telecommunications, post and railways\" regulates posts and telecommunications, among other markets, as a higher federal authority. Its remit is to promote further growth of the telecommunications market, for instance, through liberalization and deregulation. It is also responsible for the site approval procedure when the mobile communications network is expanded.',\n",
       " \"EMC database at Germany's Research Center for Bioelectromagnetic Interaction (FEMU) at the Rheinisch-Westfälische Technische Hochschule Aachen.\",\n",
       " 'Measures the strength of an electromagnetic field; measured in volt per meter (electric field) and ampere per meter (magnetic field).',\n",
       " 'Billing irrespective of use of telecommunication services - especially in the areas of telephony and Internet - with a monthly flat rate charge for instance, depending on a contractually agreed service (e.g., transfer bandwidth, volume of data). Exceeding the agreed \"service volume\" costs extra.',\n",
       " 'Fixed Mobile ConvergenceThe merger of fixed-network and mobile rate plans for customers that have fixed-network and mobile contracts with Deutsche\\xa0Telekom.',\n",
       " 'Measures the change in electromagnetic fields over time; measured in cycles per second (Hz).',\n",
       " 'The available frequency bandwidth used to transmit data. Generally speaking: The broader the spectrum, the higher the data rate that can be achieved if the same transmission technologies and parameters are used.',\n",
       " 'In telecommunications FTTB means that the fiber-optic cable is terminated in the user’s house (basement).',\n",
       " 'Key concept behind the universal rollout of the fiber-optic network. With FTTC the fiber optics are terminated in the distribution cabinets on the curb. The \"last mile\" to the individual households is still covered using existing copper pairs. See also fiber-optic cable.',\n",
       " 'Unlike FTTC, Fiber to the Home entails rolling out the fiber-optic network right up to the individual home. See also FTTC.',\n",
       " 'This includes the three options for fiber-optic roll-out: FTTB, FTTC, and FTTH.',\n",
       " 'Regions (e.g., towns and municipalities) that the states of Germany have reported to the Federal Network Agency as having inadequate broadband Internet coverage (fixed network or mobile communications) are referred to as \"gaps\" or \"white spots\". These regions are mostly located in rural areas; coverage is being expanded as part of Telekom\\'s \"More broadband for Germany\" project.',\n",
       " 'The Greenhouse Gas (GHG) Protocol divides emissions into the Scope 1, Scope 2, and Scope 3 categories, depending on the degree to which they can be influenced by the reporting company.Scope 1 accounts for all direct GHG emissions.Scope 2 accounts for indirect emissions associated with the generation of electricity, steam, or heat purchased from external sources.Scope 3 allows for the treatment of all other indirect emissions associated with logistics, use of materials, supplies, and waste disposal, including emissions generated by service and manufacturing companies working for the reporting company and their upstream suppliers.',\n",
       " 'A gigabit is a unit of information or a unit of storage capacity. One gigabit is equivalent to 1,000,000,000 bits.',\n",
       " 'General Packet Radio Service is a data transmission technology for mobile communications networks, e.g., for transmitting Internet pages to cell phones. Billing is usually based on the volume of data.',\n",
       " 'The American Global Positioning System uses satellite signals to determine a user’s instantaneous location. Even navigation is possible using appropriate maps.The European Galileo satellite navigation system is scheduled to come into service in 2014; in contrast to GPS, it will not be subject to national military control.',\n",
       " 'The catchword \"Green IT\" (less commonly \"Green ICT\") is taken to mean efforts to make the use of Information Technology (IT) and Information and Communications Technology (ICT) environmentally compatible and resource conserving over the entire life cycle of such equipment, i.e., starting from the design of such systems and the production of components and their use through to disposal or recycling of the equipment.',\n",
       " '\"Grid computing\" refers to a network of interconnected mainframe computers.When one computer has spare capacity, it makes its computing capacity available to other computers on request. Interconnection uses a high-performance backbone. The Internet backbone is mostly used. Such grids are an effective and efficient way of solving complex tasks across different organizational boundaries. Regardless of their location, users can access all resources over the network.',\n",
       " 'Global System for Mobile Communications (formerly Groupe Spéciale Mobile (GSM)) is a standard for full-digital mobile communications networks that are mainly used for telephony as well as for line-switched and packet-switched data transmission and for text messages (SMS). It is the most widely used worldwide mobile communications standard.',\n",
       " 'Jargon word for people who enjoy attacking complicated program systems or regard doing so as a creative or intellectual challenge.In contrast to normal users who prefer to only learn the bare minimum functions provided by a program, a hacker tries to exhaust or even expand the capabilities of a program. This may include evading security functions to obtain unauthorized access to remote computer systems in order to obtain sensitive data. Unlike hackers, \"crackers\" often damage and manipulate and/or publish confidential data.',\n",
       " 'High Definition Television is a high-resolution TV standard with more pixels and a higher resolution than PAL or NTSC.',\n",
       " 'A deliberately placed trap that allows IT developers and operators to identify virus and hacker attacks as well as the associated perpetrators. Just as bears are hunted by being \"lured\" with a honey trap, hackers are meant to respond to supposed vulnerabilities in IT systems and attempt to exploit these. They can actually be detected as a result and the system protected against future attacks.',\n",
       " 'HotSpots are locations that provide users with high-speed Internet access via WLAN. Deutsche Telekom alone operates around 11,000 HotSpots in Germany and 50,000 worldwide, including at airports, hotels, trade fairs, and conference centers. All HotSpots can be found at www.hotspot.de.',\n",
       " 'High Speed Downlink Packet Access.Mobile communications technology which increases transmission rates in the UMTS network. This further development of UMTS enables data transmission on downlinks at realistic data rates of up to 14.4 Mbit/s.',\n",
       " 'High Speed Uplink Packet Access - Increases the transmission rates on uplinks in the UMTS network, thereby allowing shorter latency (delay times). Data can be transmitted at speeds of up to 5.8 Mbit/s.',\n",
       " 'The hybrid solution combines LTE and vectoring, thus increasing bandwidths. The technology supports download speeds of up to 200 MBit/s and upload speeds of up to 90 MBit/s. See also LTE and Vectoring.',\n",
       " 'International Agency for Research on Cancer – an institute of the World Health Organization (WHO).',\n",
       " 'International Commission on Non-Ionizing Radiation Protection.',\n",
       " 'Interconnection -\\xa0See MTR.',\n",
       " 'Information and Communications Technology: These terms were combined in the 1980s to emphasize the merging of information technology and communications technology.',\n",
       " 'The impact of factors such as noise or electromagnetic fields on the organism.',\n",
       " 'A communication network in which the service logic for a call is located separately from the switching facilities. This makes it possible to set customized individual service features in the network or set up customized networks.',\n",
       " 'Refers to a service-oriented centralized system that piggybacks onto an existing communication network, adding intelligent network components and additional features in the process.',\n",
       " 'Measures the degree to which a system is influenced by electromagnetic fields (see also Irradiation immunity).',\n",
       " 'The Internet of Things refers to networking objects with the Internet so that these can communicate independently over the Internet and carry out various tasks for the owner. The most important evolutionary step in implementing the vision of the Internet of Things took place in 2012 when the leading Internet groups switched to the Internet Protocol Version 6. This hugely increased the number of available IP addresses: whereas before 4.3 billion addresses had almost entirely been used up, there are now 340 sextillion free addresses available. Furthermore, web addresses could previously only be issued to computers, smartphones, and other devices - now every container, every pallet and, even every individual garment can get its own IP.',\n",
       " 'An intranet is a network that is based on the same technologies as the Internet (TCP/IP, HTTP) but can only be used by a specified group of members of an organization. Companies use an intranet in order to provide employees with information.',\n",
       " 'Process whereby one or more electrons are removed from an atom or molecule. Ionization can be caused by high temperature, electrical discharges, radiation or chemical reactions.',\n",
       " \"Radiation is referred to as ionizing once exposure can damage cell material. Electrons are removed from the cell's molecular structure, thus damaging the cell. Only electromagnetic fields with wavelengths shorter than UV light can have an ionizing effect.\",\n",
       " 'The Internet Protocol is a network protocol.Computers can be grouped together in a network and addressed directly by using the IP addresses employed in an IP network. Versions IPv4 and IPv6t have been fully specified. Almost all data networks have operated using this protocol since the end of the last century. The worldwide web is also based on this protocol.',\n",
       " 'Internet Telephony or IP Telephony, short for Internet Protocol telephony or Voice over IP (VoIP) is making calls via computer networks that are built according to Internet standards.',\n",
       " 'A Virtual Private Network which uses IP Internet Protocol as a network protocol.Corporate intranets are an example of this. An IP VPN allows the connected Local Area Networks (LANs) of a company to swap data over a \"secure\" channel (IP tunneling). This makes it possible, for example, to provide secure access to a corporate network from any dial-up Internet access point in the world.',\n",
       " 'IPTV refers to the digital transmission of television programs and films over a digital data network.The Internet Protocol (IP) that the Internet is based on is used to achieve this. Unlike other transmission technologies, IPTV offers a backward channel that allows interactive enjoyment of TV. Deutsche Telekom offers everyone in Germany IP-based TV under the brand name \"Entertain\".',\n",
       " 'Electrical appliances are built so that they cannot be interfered with by other devices outside legally prescribed safety areas. For medical devices, the DIN-EN 60601-1-2 standard specifies electromagnetic compatibility (irradiation immunity) of 3 V/m, for life-sustaining medical devices there is a standard of 10 V/m. The minimum recommended distance between a cell phone and a non life-sustaining device is three meters.',\n",
       " 'Information Technology (IT) is a generic term for information and data processing and the hardware and software that this requires.',\n",
       " 'This abbreviation stands for \"International Telecommunication Union\".The International Telecommunication Union is based in Geneva and is a subsidiary organ of the United Nations and the only organization that deals with technical aspects of telecommunications in an official, worldwide capacity.',\n",
       " 'Informationszentrum für Mobilfunk (Information Center for Mobile Communications).As a provider of information services, the IZMF is a point of contact for residents, the media, and public and private institutions for issues relating to mobile communications.',\n",
       " 'Java is an object-oriented programming language and a registered trademark of Sun Microsystems. It is a component of Java Technology.',\n",
       " 'Two or more companies set up a joint enterprise for cooperation.',\n",
       " 'A Local Area Network is a network consisting of linked-up wired and wireless (WLAN = Wireless LAN) components that provide access to the network.',\n",
       " 'Location-based Services control mobility and flexibility in our modern, networked world.\"Traffic movements\" of every kind can now be displayed transparently at any time by using satellite and radio technology. The potential provided by location-independence, localization and high availability makes LBS the interface for completely new business models. Location-based apps for smart phones offer services that enhance quality of life and open up entirely fresh perspectives for instance.',\n",
       " \"Legally specified value below which, according to current scientific findings, effects on people's health can be precluded. The purpose of limit values is to protect people's health. In mobile communications, there are basic and reference limits.\",\n",
       " 'Long Term Evolution.Fourth-generation mobile communications standard and further development of UMTS. LTE is based on the transmission method which digital broadcasting, for instance, also uses and enables data rates of up to 100 Megabit/s on the downlink.',\n",
       " 'Machine-to-Machine, or M2M, refers to the automated exchange of information between devices such as machinery, vehicles, or containers, or with a central control center. One application is remote monitoring or maintenance of machinery, plant, and systems, which is traditionally described as telemetry.',\n",
       " 'Multiple Input, Multiple Output is a multiple antenna technology used with LTE. It makes it possible to increase both the data rate and the quality of the service.',\n",
       " 'In the combined management report, one mobile communications card corresponds to one customer. The totals were calculated on the basis of precise figures and rounded to millions or thousands. Percentages were calculated on the basis of the figures shown (see also SIM card).',\n",
       " 'A virtual discount system that takes advantage of the opportunities provided by mobile communications: The customer no longer has a paper discount coupon, but receives a digital coupon on their cell phone via SMS, e-mail, download or scan and then receives the corresponding discount when paying.',\n",
       " 'Payment transactions where at least the party liable for payment uses electronic means to initiate, authorize, or make the payment.',\n",
       " 'Mobile tagging uses the camera on a mobile device to read a bar code from a marked object, a sheet of paper, or from a display. Codes are normally made up of various two-dimensional bar codes such as the QR (quick response) code. In order to read a 2-D bar code, special software needs to be installed on the mobile device.',\n",
       " 'Process during signal transmission whereby low-frequency information (e.g., music, voice, data) is modulated to a suitable high frequency, known as the carrier.',\n",
       " 'Termination refers to the transportation of a call, e. g., from the competitor’s network to the Deutsche Telekom network. When a call is transported to the mobile communications network, this is referred to as \\xadmobile termination. If the call is transported to the fixed network, this is called fixed-\\xadnetwork termination, or simply interconnection (IC). Termination rates are the fee a telephone company must pay for network interconnection when a call is terminated in a third-party network.',\n",
       " 'Mobile Virtual Network OperatorCompany that offers mobile minutes at relatively low prices without subsidized handsets. A mobile virtual network \\xadoperator does not have its own wireless network, but uses the infrastructure of another mobile operator to provide its services.',\n",
       " 'Narrowband IoT (NB-IoT) is a new type of narrowband communication with \"things\" (Internet of Things) in which small volumes of data are transmitted over extended periods of time in hard-to-reach places. One example would be sensors embedded in the ground to enable smart parking in cities.',\n",
       " 'Next Generation Mobile Networks is a consortium in which various mobile communications providers have joined forces to drive the further development of UMTS to the next generation. One development in this context is LTE.',\n",
       " 'NGN is a communication network that reflects the convergence of conventional networks (telephone networks, mobile communications networks etc.) with IP-based networks.All services are based on the IP protocol. NGNs mark a fundamental shift in the architecture of public networks with packet-switched networks replacing the line-switched networks that were optimized for telephone services. NGNs support voice, data and multimedia and are closely linked to the spread of Voice over IP (VoIP).',\n",
       " 'Covers all fields of the electromagnetic spectrum which do not have enough energy to cause ionization. These include radio waves, microwaves, infrared and visible light.',\n",
       " 'Possible effects of electromagnetic fields causing no, or a non-measurable, rise in body temperature. Their existence is the subject of controversial discussion amongst scientists and is not considered to be scientifically proven.',\n",
       " 'Orthogonal Frequency Division Multiplexing. Radio transmission method which – for example in LTE – divides the frequency spectrum into narrowband subchannels to transmit data over these channels in parallel. This makes it possible to adjust the radio channel optimally to the signal propagation conditions and to increase transmission capacity.',\n",
       " 'A data transmission medium made of high-grade fused silica. Optical fiber cables have higher transmission capacities (in the Gbit/s range) and lower signal distortion than copper wires.',\n",
       " 'Over The Top PlayerProvider of IP-based, platform-independent services, such as WhatsApp.',\n",
       " 'Customers who pay for communications services after receiving them (usually on a monthly basis).',\n",
       " 'Measures the intensity of an electromagnetic field; measured in watt per square meter.',\n",
       " 'Prepaid involves paying upfront for a service and receiving or using that service afterwards. Purchasing a prepaid card for cell phones tops up credit onto a cell phone. This credit can then be used for phone calls, text messages, and other services.',\n",
       " 'Preselection of a telephone company.A procedure where customers select a certain provider - known as a long-distance carrier - for all of their long-distance and international calls.',\n",
       " 'Global public telephone network comprising elements such as telephones, connecting cables, and exchanges.',\n",
       " 'Used in D-Netz and E-Netz. Voice and data signals are transmitted at defined intervals known as time slots. A pulsed signal is switched on and off following a certain pattern.',\n",
       " 'Each base station only serves a narrowly defined area, the radio cell. Seen together, adjacent radio cells form a full-coverage network structure.',\n",
       " 'Assessment of the creditworthiness of securities or debtors by rating agencies. Deutsche Telekom defines a rating corridor in its finance strategy that is designed to safeguard access to the international capital markets.',\n",
       " 'Since basic limits are often hard to measure and examine, limit values are derived for their \"inducing factors” instead. These reference limits apply to the electric and magnetic field in the free space outside the body. They guarantee that under no circumstances are the basic SAR limits exceeded within the body.',\n",
       " 'The sale of goods and services to end users, as opposed to resale or wholesale.',\n",
       " 'Reverse factoring is a method of financing that enables suppliers to sell receivables.',\n",
       " 'Radio Frequency Identification: This technology supports the automatic identification and localization of objects and individuals, therefore making it easier to enter data. An RFID system consists of a transponder, which is fitted/attached to or in the object or individual, an identifying code, as well as a reader to read out this code.',\n",
       " '\"Roaming\" denotes the use of a communication device or even the use of a subscriber identity in a different network (visited network) rather than one\\'s home network. This requires the operators of both these networks to have reached a roaming agreement and switched the necessary signaling and data connections between their networks. Roaming comes into play when cell phones are used across national boundaries.',\n",
       " 'A coupling element that connects two or more sub-networks. Routers can also extend the boundaries of a network, monitor data traffic, and block any faulty data packets.',\n",
       " 'Really Simple Syndication denotes both a procedure and a file format that are both used in the Internet in order to disseminate information in an especially effective manner. RSS is primarily used to distribute or exchange messages.\"Really simple syndication\" of messages is based on the following concept: An RSS file is a machine-readable brief description of a document such as a topical newspaper article. As a rule, it contains the heading of the article as well is a concise summary. It also contains a link to the Internet address of the page in question where the described document can be called up. RSS is used above all in situations where the content of webpages is updated frequently.',\n",
       " 'Specific Absorption Rate. It measures the electromagnetic fields absorbed by the body. It is represented in watt per kilogram of body weight.',\n",
       " 'An effect is only deemed scientifically proven when this effect can be reproduced and endorsed in several experiments by different independent research groups. SSK (Commission on Radiological Protection) refers to scientific proof in cases \"when scientific studies performed by independent research groups show that a connection can be reproduced, and the overall scientific picture confirms the causal connection.\"',\n",
       " 'Revenues generated with mobile customers from services (i. e., revenues from voice services – incoming and outgoing calls – and data services), plus roaming revenues, monthly charges, and visitor revenues.',\n",
       " 'Approval granted by the Federal Network Agency to set up a base station. This process is specified in the Ordinance on the Method of Proof for the Limitation of Electromagnetic Fields (BEMfV).',\n",
       " 'All media (platforms) which help users use digital channels for two-way communication and swap information interactively are referred to as \"social media\". Examples include Twitter, Facebook, blogs and YouTube.',\n",
       " 'Deutsche Strahlenschutzkommission. German Commission on Radiological Protection; advises the Federal Ministry for the Environment, Nature Conservation, Building and Nuclear Safety (BMU) on all matters relating to radiation protection.',\n",
       " 'Sometimes referred to as a logistics chain or value-added chain in a supply or value-added process that overarches several companies. The supply chain starts with the production of raw materials and continues through various manufacturing and transport stages through to commercial stages and shipment to end users.',\n",
       " 'The stakeholder approach is an extension of the shareholder value approach, a concept frequently used in business administration. In contrast to the shareholder value principle, which focuses on the needs and expectations of a company’s shareholders, the stakeholder approach attempts to appreciate the company against its overall social background and reconcile the needs of the \\xaddifferent stakeholders. In addition to shareholders, stakeholders include staff, customers, suppliers, the government, and the public at large.',\n",
       " \"Portable, flat computer with a touchscreen display. Unlike a notebook, a tablet PC does not have a foldout keyboard. Due to its lightweight design and touch-sensitive screen, tablet PCs are extremely easy to use. The devices offer the kind of functionality and ease of use you find on today's smartphones.\",\n",
       " 'Transmission Control Protocol over Internet Protocol.The TCP/IP reference model describes the structure and interaction of network protocols in the Internet protocol family.',\n",
       " 'An amalgamation of telecommunications and information technology.A field of research that deals with the mutual interactions between and the interwovenness of various communication technology disciplines, especially the areas of electronic information processing and telecommunications which rely on the same basic technologies. The Intelligent Transportation System and the services that build on it to ensure greater transportation safety, environmental compatibility and (economic) efficiency is a special area of Telematics that has emerged in recent years.',\n",
       " 'Telemedicine is a subdiscipline of telematics in the healthcare sector. It refers to diagnostics and treatment that uses telecommunications to overcome a spatial or temporal separation between physician, pharmacist, and patient, or between two consulting physicians.',\n",
       " 'TeraStream is a new cloud-based IP network architecture. It helps substantially reduce IT complexity in existing networks by migrating the operating systems for network operation to the cloud. Network administration and management becomes much easier by using the cloud model since these functions are provided centrally from a single data center rather than directly on the respective network component, as previously.',\n",
       " 'This originally stood for \"Trans-European Trunk Radio\".TETRA is a standard for digital trunked radio. Because of its special service features, it is particularly suitable for government agencies and organizations that fulfill security tasks (police, fire brigade, rescue services).',\n",
       " 'Effects caused by electromagnetic fields which lead to a rise in body temperature.',\n",
       " 'Firmly assigned period of time within a transmission frame. In the GSM network voice and data signals are transmitted as data packets at regular intervals - known as \"time slots\".',\n",
       " 'Unbundled Local LoopCompetitors whose own networks do not reach into customers’ premises can rent unbundled local loop lines from Deutsche Telekom. Their networks end at the local exchanges. The ULL bridges the distance between the local exchange and the termination point on the customer’s premises or in their home, so it is also known as the “last mile.”',\n",
       " 'Universal Mobile Telecommunications System is a third-generation (3G) mobile communications standard.UMTS has enhanced performance and has superseded mobile communications using GSM. UMTS supports high-performance multimedia services. These include, besides voice and audio services, high-speed data, graphics and text transmission and the transmission of moving images and video.',\n",
       " 'Radio link from a mobile device (e.g., cell or smart phone) to the base station.',\n",
       " 'Ratio of average number of hours billed to maximum possible hours billed per period.',\n",
       " 'A technology based on VDSL that supports higher bandwidths. Existing copper pairs between homes and cable distributors are retained. Vectoring reduces signal interference that is responsible for slowing down data speeds on the copper. The technology supports download speeds of up to 100 Mbit/s.',\n",
       " 'VOD is a multimedia service that enables participants to select and play videos (such as feature films, training modules or music clips) from a set of videos that are on offer. Content is stored in compressed form in interconnected video servers and is usually transferred over a broadband network (Internet) and viewed on a TV or some other suitable device. In the TV market, VOD is often offered as a “pay-per-view” (PPV) or a subscription-based service (payment on a time-related contractual basis).',\n",
       " 'VoIP is the merging of voice and data on shared infrastructure (TCP/IP protocol).It involves making phone calls using computer networks and, in particular, data networks that operate using the widely used Internet Protocol (IP). VoIP technology makes significantly more efficient use of existing line resources. This reduces the cost of calls. IT applications and telephony also work together better thanks to the shared network infrastructure.',\n",
       " 'Voluntary commitment by carriers in 2001 toward the Federal Government to implement various measures to improve safety and protection with regards to consumers, the environment and public health.',\n",
       " 'Virtual private network: a self-contained computer network which is set up on a public network infrastructure. Only communications partners that belong to this private network can communicate with each other and share information and data. VPNs are used, for instance, by companies with several locations to protect data traffic between the individual locations.',\n",
       " 'Wireless Application Protocol.Wireless Application Protocol (WAP) denotes a number of technologies and protocols that have been used to make Internet content available with the slower transmission rates and longer response times encountered in GSM mobile communications networks and the small displays found on cell phones.',\n",
       " 'The term \"webcast\" denotes the sending of audiovisual content over the Internet. As a rule, the content of webcasts is informative or scientific.',\n",
       " 'Regions (e.g., cities and municipalities) that the States of Germany have reported to the Federal Network Agency as having inadequate broadband Internet coverage (fixed network or mobile communications) are referred to as \"white spots.\" These regions are mainly located in rural areas; coverage is being expanded as part of Telekom’s \"More Broadband for Germany\" project.',\n",
       " 'World Health Organization.',\n",
       " 'Refers to the business of selling services to third parties who sell them to their own end customers either directly or after further processing.',\n",
       " 'Wireless Local Area Network is a radio standard for wireless data transmission in a small-scale local radio network. A WLAN includes an access point - a WLAN router. The router establishes a connection to the Internet. A WLAN-capable device, for example a laptop with a WLAN adapter, is also required.']"
      ]
     },
     "execution_count": 6,
     "metadata": {},
     "output_type": "execute_result"
    }
   ],
   "source": [
    "l_texts"
   ]
  },
  {
   "cell_type": "code",
   "execution_count": 4,
   "metadata": {},
   "outputs": [
    {
     "data": {
      "text/plain": [
       "183"
      ]
     },
     "execution_count": 4,
     "metadata": {},
     "output_type": "execute_result"
    }
   ],
   "source": [
    "len(l_titles)"
   ]
  },
  {
   "cell_type": "code",
   "execution_count": null,
   "metadata": {},
   "outputs": [],
   "source": []
  },
  {
   "cell_type": "code",
   "execution_count": null,
   "metadata": {},
   "outputs": [],
   "source": []
  },
  {
   "cell_type": "code",
   "execution_count": null,
   "metadata": {},
   "outputs": [],
   "source": []
  },
  {
   "cell_type": "code",
   "execution_count": null,
   "metadata": {},
   "outputs": [],
   "source": []
  },
  {
   "cell_type": "code",
   "execution_count": null,
   "metadata": {},
   "outputs": [],
   "source": []
  },
  {
   "cell_type": "code",
   "execution_count": null,
   "metadata": {},
   "outputs": [],
   "source": [
    "soup.findAll('div',{'data-tabtext':'A'})"
   ]
  },
  {
   "cell_type": "code",
   "execution_count": 3,
   "metadata": {},
   "outputs": [],
   "source": [
    "l = []\n",
    "for text in soup.findAll('div',{'data-panetext':'AAL'}):\n",
    "    l.append(text.get_text())"
   ]
  },
  {
   "cell_type": "code",
   "execution_count": 4,
   "metadata": {},
   "outputs": [
    {
     "data": {
      "text/plain": [
       "['\\n\\n\\n\\n\\n\\n\\n\\n\\nAmbient Assisted Living: A generic term for assistance systems that enable the elderly to live independently in their own home for as long as possible or help ensure that the chronically ill do not have to make strenuous, expensive journeys to physicians and care providers. They provide access to help in everyday situations in the home or as part of care, prevention, and rehabilitation. \\n\\n\\n\\n\\n\\n ']"
      ]
     },
     "execution_count": 4,
     "metadata": {},
     "output_type": "execute_result"
    }
   ],
   "source": [
    "l"
   ]
  },
  {
   "cell_type": "code",
   "execution_count": 6,
   "metadata": {},
   "outputs": [
    {
     "name": "stdout",
     "output_type": "stream",
     "text": [
      "[]\n"
     ]
    }
   ],
   "source": [
    "print(soup.findAll('div',{'data-panetext':'re.findall(\"[a-zA-Z]+\",i)'}))"
   ]
  },
  {
   "cell_type": "code",
   "execution_count": 21,
   "metadata": {},
   "outputs": [],
   "source": [
    "s = ['ACL','BLL','123','hello world!','AC-CLA']"
   ]
  },
  {
   "cell_type": "code",
   "execution_count": 22,
   "metadata": {},
   "outputs": [
    {
     "name": "stdout",
     "output_type": "stream",
     "text": [
      "['ACL']\n",
      "['BLL']\n",
      "[]\n",
      "['hello', 'world']\n",
      "['AC', 'CLA']\n"
     ]
    }
   ],
   "source": [
    "for i in s:\n",
    "    print(re.findall(\"[a-zA-Z]+\",i))"
   ]
  },
  {
   "cell_type": "code",
   "execution_count": 21,
   "metadata": {},
   "outputs": [],
   "source": [
    "s=['A','B','C','D','W']"
   ]
  },
  {
   "cell_type": "code",
   "execution_count": 46,
   "metadata": {},
   "outputs": [
    {
     "name": "stdout",
     "output_type": "stream",
     "text": [
      "<class 'str'>\n",
      "<class 'str'>\n",
      "<class 'str'>\n",
      "<class 'str'>\n",
      "<class 'str'>\n"
     ]
    }
   ],
   "source": [
    "p =[]\n",
    "for i in s:\n",
    "    print(type(re.findall(\"[A-Z]+\",i)[0]))"
   ]
  },
  {
   "cell_type": "code",
   "execution_count": 39,
   "metadata": {},
   "outputs": [
    {
     "data": {
      "text/plain": [
       "['A', 'B', 'C', 'D', 'W']"
      ]
     },
     "execution_count": 39,
     "metadata": {},
     "output_type": "execute_result"
    }
   ],
   "source": [
    "p"
   ]
  },
  {
   "cell_type": "code",
   "execution_count": null,
   "metadata": {},
   "outputs": [],
   "source": []
  }
 ],
 "metadata": {
  "kernelspec": {
   "display_name": "Python 3",
   "language": "python",
   "name": "python3"
  },
  "language_info": {
   "codemirror_mode": {
    "name": "ipython",
    "version": 3
   },
   "file_extension": ".py",
   "mimetype": "text/x-python",
   "name": "python",
   "nbconvert_exporter": "python",
   "pygments_lexer": "ipython3",
   "version": "3.6.5"
  }
 },
 "nbformat": 4,
 "nbformat_minor": 2
}
